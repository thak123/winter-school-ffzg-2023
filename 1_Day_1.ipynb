{
  "nbformat": 4,
  "nbformat_minor": 0,
  "metadata": {
    "colab": {
      "provenance": [],
      "authorship_tag": "ABX9TyOebyelnteAhaPA/pP+oSQT",
      "include_colab_link": true
    },
    "kernelspec": {
      "name": "python3",
      "display_name": "Python 3"
    },
    "language_info": {
      "name": "python"
    }
  },
  "cells": [
    {
      "cell_type": "markdown",
      "metadata": {
        "id": "view-in-github",
        "colab_type": "text"
      },
      "source": [
        "<a href=\"https://colab.research.google.com/github/thak123/winter-school-ffzg-2023/blob/main/1_Day_1.ipynb\" target=\"_parent\"><img src=\"https://colab.research.google.com/assets/colab-badge.svg\" alt=\"Open In Colab\"/></a>"
      ]
    },
    {
      "cell_type": "markdown",
      "source": [
        "## 1. Lets say hello"
      ],
      "metadata": {
        "id": "AgPwhcDpafC3"
      }
    },
    {
      "cell_type": "code",
      "execution_count": null,
      "metadata": {
        "colab": {
          "base_uri": "https://localhost:8080/"
        },
        "id": "JOy9VNLyZH2P",
        "outputId": "8fa67f3d-d0a5-438f-e14f-374b823b82c4"
      },
      "outputs": [
        {
          "output_type": "stream",
          "name": "stdout",
          "text": [
            "hello world\n"
          ]
        }
      ],
      "source": [
        "print(\"hello world\")"
      ]
    },
    {
      "cell_type": "code",
      "source": [
        "!python -V"
      ],
      "metadata": {
        "colab": {
          "base_uri": "https://localhost:8080/"
        },
        "id": "JQX55b6pazBQ",
        "outputId": "565972c9-8621-42a1-81ba-37e9054d6c2c"
      },
      "execution_count": null,
      "outputs": [
        {
          "output_type": "stream",
          "name": "stdout",
          "text": [
            "Python 3.8.16\n"
          ]
        }
      ]
    },
    {
      "cell_type": "markdown",
      "source": [
        "## 2. Requirements"
      ],
      "metadata": {
        "id": "4RDREDBoajYm"
      }
    },
    {
      "cell_type": "markdown",
      "source": [
        "### Installing packages"
      ],
      "metadata": {
        "id": "u6USDAYPyjEm"
      }
    },
    {
      "cell_type": "code",
      "source": [
        "pip install -U scikit-learn pandas numpy matplotlib"
      ],
      "metadata": {
        "id": "TBHEXctKZRxW",
        "colab": {
          "base_uri": "https://localhost:8080/"
        },
        "outputId": "d5cbd893-5605-47f1-9990-8845aade4ee0"
      },
      "execution_count": null,
      "outputs": [
        {
          "output_type": "stream",
          "name": "stdout",
          "text": [
            "Looking in indexes: https://pypi.org/simple, https://us-python.pkg.dev/colab-wheels/public/simple/\n",
            "Requirement already satisfied: scikit-learn in /usr/local/lib/python3.8/dist-packages (1.2.0)\n",
            "Requirement already satisfied: pandas in /usr/local/lib/python3.8/dist-packages (1.3.5)\n",
            "Collecting pandas\n",
            "  Downloading pandas-1.5.2-cp38-cp38-manylinux_2_17_x86_64.manylinux2014_x86_64.whl (12.2 MB)\n",
            "\u001b[2K     \u001b[90m━━━━━━━━━━━━━━━━━━━━━━━━━━━━━━━━━━━━━━━━\u001b[0m \u001b[32m12.2/12.2 MB\u001b[0m \u001b[31m73.9 MB/s\u001b[0m eta \u001b[36m0:00:00\u001b[0m\n",
            "\u001b[?25hRequirement already satisfied: numpy>=1.17.3 in /usr/local/lib/python3.8/dist-packages (from scikit-learn) (1.21.6)\n",
            "Requirement already satisfied: threadpoolctl>=2.0.0 in /usr/local/lib/python3.8/dist-packages (from scikit-learn) (3.1.0)\n",
            "Requirement already satisfied: joblib>=1.1.1 in /usr/local/lib/python3.8/dist-packages (from scikit-learn) (1.2.0)\n",
            "Requirement already satisfied: scipy>=1.3.2 in /usr/local/lib/python3.8/dist-packages (from scikit-learn) (1.7.3)\n",
            "Requirement already satisfied: python-dateutil>=2.8.1 in /usr/local/lib/python3.8/dist-packages (from pandas) (2.8.2)\n",
            "Requirement already satisfied: pytz>=2020.1 in /usr/local/lib/python3.8/dist-packages (from pandas) (2022.7)\n",
            "Requirement already satisfied: six>=1.5 in /usr/local/lib/python3.8/dist-packages (from python-dateutil>=2.8.1->pandas) (1.15.0)\n",
            "Installing collected packages: pandas\n",
            "  Attempting uninstall: pandas\n",
            "    Found existing installation: pandas 1.3.5\n",
            "    Uninstalling pandas-1.3.5:\n",
            "      Successfully uninstalled pandas-1.3.5\n",
            "Successfully installed pandas-1.5.2\n"
          ]
        }
      ]
    },
    {
      "cell_type": "markdown",
      "source": [
        "## 3. Importing the libraries"
      ],
      "metadata": {
        "id": "o8Ium4dPpKwD"
      }
    },
    {
      "cell_type": "code",
      "source": [
        "import numpy as np\n",
        "import re\n",
        "import nltk\n",
        "from sklearn.datasets import load_files\n",
        "nltk.download('stopwords')\n",
        "nltk.download('wordnet')\n",
        "nltk.download('omw-1.4')\n",
        "import pickle\n",
        "from nltk.corpus import stopwords\n",
        "import pandas as pd\n",
        "import matplotlib.pyplot as plt\n",
        "%matplotlib inline"
      ],
      "metadata": {
        "colab": {
          "base_uri": "https://localhost:8080/"
        },
        "id": "PcOG5TdVawVS",
        "outputId": "4c9e9779-9b2a-4c47-b014-509688a42341"
      },
      "execution_count": 20,
      "outputs": [
        {
          "output_type": "stream",
          "name": "stderr",
          "text": [
            "[nltk_data] Downloading package stopwords to /root/nltk_data...\n",
            "[nltk_data]   Package stopwords is already up-to-date!\n",
            "[nltk_data] Downloading package wordnet to /root/nltk_data...\n",
            "[nltk_data]   Package wordnet is already up-to-date!\n",
            "[nltk_data] Downloading package omw-1.4 to /root/nltk_data...\n",
            "[nltk_data]   Package omw-1.4 is already up-to-date!\n"
          ]
        }
      ]
    },
    {
      "cell_type": "markdown",
      "source": [
        "## 3.a. Code to download data file"
      ],
      "metadata": {
        "id": "XdKJvriwqJkh"
      }
    },
    {
      "cell_type": "code",
      "source": [
        "from sklearn.datasets import fetch_20newsgroups\n",
        "from sklearn.feature_extraction.text import TfidfVectorizer\n",
        "from time import time\n",
        "\n",
        "categories = [\n",
        "    \"alt.atheism\",\n",
        "    \"talk.religion.misc\",\n",
        "    \"comp.graphics\",\n",
        "    \"sci.space\",\n",
        "]\n"
      ],
      "metadata": {
        "id": "r_3Awf6XpSAJ"
      },
      "execution_count": 3,
      "outputs": []
    },
    {
      "cell_type": "code",
      "source": [
        "# newsgroup_data = fetch_20newsgroups(\n",
        "#         subset=\"all\",\n",
        "#         categories=categories,\n",
        "#         shuffle=True,\n",
        "#         random_state=42,\n",
        "#     )\n",
        "\n",
        "data_train = fetch_20newsgroups(\n",
        "        subset=\"train\",\n",
        "        categories=categories,\n",
        "        shuffle=True,\n",
        "        random_state=42,\n",
        "        # remove=remove,\n",
        "    )\n",
        "\n",
        "data_test = fetch_20newsgroups(\n",
        "        subset=\"test\",\n",
        "        categories=categories,\n",
        "        shuffle=True,\n",
        "        random_state=42,\n",
        "        # remove=remove,\n",
        "    )\n",
        "  "
      ],
      "metadata": {
        "id": "eF1yQAt0jmuk"
      },
      "execution_count": 26,
      "outputs": []
    },
    {
      "cell_type": "code",
      "source": [
        "# order of labels in `target_names` can be different from `categories`\n",
        "target_names = data_train.target_names\n",
        "\n",
        "# split target in a training set and a test set\n",
        "y_train, y_test = data_train.target, data_test.target\n",
        "\n"
      ],
      "metadata": {
        "id": "n3-DCwhzj8wX"
      },
      "execution_count": 42,
      "outputs": []
    },
    {
      "cell_type": "code",
      "source": [
        "\n",
        "# def size_mb(docs):\n",
        "#     return sum(len(s.encode(\"utf-8\")) for s in docs) / 1e6\n",
        "\n",
        "\n",
        "# def load_dataset(verbose=False, remove=()):\n",
        "#     \"\"\"Load and vectorize the 20 newsgroups dataset.\"\"\"\n",
        "\n",
        "#     data_train = fetch_20newsgroups(\n",
        "#         subset=\"train\",\n",
        "#         categories=categories,\n",
        "#         shuffle=True,\n",
        "#         random_state=42,\n",
        "#         remove=remove,\n",
        "#     )\n",
        "\n",
        "#     data_test = fetch_20newsgroups(\n",
        "#         subset=\"test\",\n",
        "#         categories=categories,\n",
        "#         shuffle=True,\n",
        "#         random_state=42,\n",
        "#         remove=remove,\n",
        "#     )\n",
        "\n",
        "#     # order of labels in `target_names` can be different from `categories`\n",
        "#     target_names = data_train.target_names\n",
        "\n",
        "#     # split target in a training set and a test set\n",
        "#     y_train, y_test = data_train.target, data_test.target\n",
        "\n",
        "#     # Extracting features from the training data using a sparse vectorizer\n",
        "#     t0 = time()\n",
        "#     vectorizer = TfidfVectorizer(\n",
        "#         sublinear_tf=True, max_df=0.5, min_df=5, stop_words=\"english\"\n",
        "#     )\n",
        "#     X_train = vectorizer.fit_transform(data_train.data)\n",
        "#     duration_train = time() - t0\n",
        "\n",
        "#     # Extracting features from the test data using the same vectorizer\n",
        "#     t0 = time()\n",
        "#     X_test = vectorizer.transform(data_test.data)\n",
        "#     duration_test = time() - t0\n",
        "\n",
        "#     feature_names = vectorizer.get_feature_names_out()\n",
        "\n",
        "#     if verbose:\n",
        "\n",
        "#         # compute size of loaded data\n",
        "#         data_train_size_mb = size_mb(data_train.data)\n",
        "#         data_test_size_mb = size_mb(data_test.data)\n",
        "\n",
        "#         print(\n",
        "#             f\"{len(data_train.data)} documents - \"\n",
        "#             f\"{data_train_size_mb:.2f}MB (training set)\"\n",
        "#         )\n",
        "#         print(f\"{len(data_test.data)} documents - {data_test_size_mb:.2f}MB (test set)\")\n",
        "#         print(f\"{len(target_names)} categories\")\n",
        "#         print(\n",
        "#             f\"vectorize training done in {duration_train:.3f}s \"\n",
        "#             f\"at {data_train_size_mb / duration_train:.3f}MB/s\"\n",
        "#         )\n",
        "#         print(f\"n_samples: {X_train.shape[0]}, n_features: {X_train.shape[1]}\")\n",
        "#         print(\n",
        "#             f\"vectorize testing done in {duration_test:.3f}s \"\n",
        "#             f\"at {data_test_size_mb / duration_test:.3f}MB/s\"\n",
        "#         )\n",
        "#         print(f\"n_samples: {X_test.shape[0]}, n_features: {X_test.shape[1]}\")\n",
        "\n",
        "#     return X_train, X_test, y_train, y_test, feature_names, target_names"
      ],
      "metadata": {
        "id": "Bo7TZYq7pR9V"
      },
      "execution_count": 8,
      "outputs": []
    },
    {
      "cell_type": "code",
      "source": [],
      "metadata": {
        "id": "WKgQ0lJXh-oo"
      },
      "execution_count": null,
      "outputs": []
    },
    {
      "cell_type": "code",
      "source": [
        "from nltk.stem import WordNetLemmatizer\n",
        "\n",
        "stemmer = WordNetLemmatizer()\n",
        "def preprocess(X):\n",
        "    documents = []\n",
        "    for sen in range(0, len(X)):\n",
        "        # Remove all the special characters\n",
        "        document = re.sub(r'\\W', ' ', str(X[sen]))\n",
        "        \n",
        "        # remove all single characters\n",
        "        document = re.sub(r'\\s+[a-zA-Z]\\s+', ' ', document)\n",
        "        \n",
        "        # Remove single characters from the start\n",
        "        document = re.sub(r'\\^[a-zA-Z]\\s+', ' ', document) \n",
        "        \n",
        "        # Substituting multiple spaces with single space\n",
        "        document = re.sub(r'\\s+', ' ', document, flags=re.I)\n",
        "        \n",
        "        # Removing prefixed 'b'\n",
        "        document = re.sub(r'^b\\s+', '', document)\n",
        "        \n",
        "        # Converting to Lowercase\n",
        "        document = document.lower()\n",
        "        \n",
        "        # Lemmatization\n",
        "        document = document.split()\n",
        "\n",
        "        document = [stemmer.lemmatize(word) for word in document]\n",
        "        document = ' '.join(document)\n",
        "        \n",
        "        documents.append(document)\n",
        "    return documents"
      ],
      "metadata": {
        "id": "dmcMmwNstbXL"
      },
      "execution_count": 29,
      "outputs": []
    },
    {
      "cell_type": "code",
      "source": [],
      "metadata": {
        "id": "wdoZKwGlouXH"
      },
      "execution_count": 29,
      "outputs": []
    },
    {
      "cell_type": "code",
      "source": [
        "train_documents = preprocess(data_train.data)\n",
        "test_documents = preprocess(data_test.data)"
      ],
      "metadata": {
        "id": "SBKc5SWao_2H"
      },
      "execution_count": 30,
      "outputs": []
    },
    {
      "cell_type": "code",
      "source": [
        "len(train_documents),len(test_documents)"
      ],
      "metadata": {
        "colab": {
          "base_uri": "https://localhost:8080/"
        },
        "id": "RWuwOxYPpe76",
        "outputId": "d74bd1bf-8ee2-4ae3-ede7-0c7c4a7a2864"
      },
      "execution_count": 31,
      "outputs": [
        {
          "output_type": "execute_result",
          "data": {
            "text/plain": [
              "(2034, 1353)"
            ]
          },
          "metadata": {},
          "execution_count": 31
        }
      ]
    },
    {
      "cell_type": "code",
      "source": [
        "# Extracting features from the training data using a sparse vectorizer\n",
        "# vectorizer = TfidfVectorizer(\n",
        "#     sublinear_tf=True, max_df=0.5, min_df=5, stop_words=\"english\"\n",
        "# )\n",
        "# X_train = vectorizer.fit_transform(data_train.data)\n",
        "\n",
        "# # Extracting features from the test data using the same vectorizer\n",
        "# X_test = vectorizer.transform(data_test.data)\n",
        "\n",
        "# feature_names = vectorizer.get_feature_names_out()"
      ],
      "metadata": {
        "id": "i6FkQ1hSoiFs"
      },
      "execution_count": null,
      "outputs": []
    },
    {
      "cell_type": "code",
      "source": [
        "train_documents"
      ],
      "metadata": {
        "id": "K6ay4TS_p_lM"
      },
      "execution_count": null,
      "outputs": []
    },
    {
      "cell_type": "code",
      "source": [
        "from sklearn.feature_extraction.text import CountVectorizer\n",
        "vectorizer = CountVectorizer(max_features=1500, min_df=5, max_df=0.7, stop_words=stopwords.words('english'))\n",
        "X_train = vectorizer.fit_transform(train_documents).toarray()"
      ],
      "metadata": {
        "id": "rGAwTD7WpR6d"
      },
      "execution_count": 38,
      "outputs": []
    },
    {
      "cell_type": "code",
      "source": [
        "feature_names = vectorizer.get_feature_names_out()"
      ],
      "metadata": {
        "id": "GmYY5c2XqZMN"
      },
      "execution_count": 39,
      "outputs": []
    },
    {
      "cell_type": "code",
      "source": [
        "from sklearn.feature_extraction.text import TfidfTransformer\n",
        "tfidfconverter = TfidfTransformer()\n",
        "X_train = tfidfconverter.fit_transform(X_train).toarray()"
      ],
      "metadata": {
        "id": "8rqy-zWdpR3c"
      },
      "execution_count": 40,
      "outputs": []
    },
    {
      "cell_type": "code",
      "source": [
        "X_test = vectorizer.transform(test_documents).toarray()\n",
        "X_test = tfidfconverter.transform(X_test).toarray()"
      ],
      "metadata": {
        "id": "6PYwwc2vqQvo"
      },
      "execution_count": 41,
      "outputs": []
    },
    {
      "cell_type": "code",
      "source": [],
      "metadata": {
        "id": "QSnClu2jqYIg"
      },
      "execution_count": null,
      "outputs": []
    },
    {
      "cell_type": "code",
      "source": [
        "from sklearn.feature_extraction.text import TfidfVectorizer\n",
        "\n",
        "# vectorizer = TfidfVectorizer (max_features=2500, min_df=7, max_df=0.8, stop_words=stopwords.words('english'))\n",
        "# processed_features = vectorizer.fit_transform(processed_features).toarray()\n",
        "\n",
        "vectorizer = TfidfVectorizer (max_features=1500, min_df=5, max_df=0.7, stop_words=stopwords.words('english'))\n",
        "X_train = vectorizer.fit_transform(train_documents).toarray()\n",
        "X_test = vectorizer.transform(test_documents).toarray()"
      ],
      "metadata": {
        "id": "5ISQwoyqpRlo"
      },
      "execution_count": 48,
      "outputs": []
    },
    {
      "cell_type": "code",
      "source": [],
      "metadata": {
        "id": "5DQ2uxEEvV6h"
      },
      "execution_count": null,
      "outputs": []
    },
    {
      "cell_type": "code",
      "source": [
        "# from sklearn.model_selection import train_test_split\n",
        "\n",
        "# X_train, X_test, y_train, y_test = train_test_split(processed_features, labels, test_size=0.2, random_state=0)\n"
      ],
      "metadata": {
        "id": "NoDadtCkvV26"
      },
      "execution_count": null,
      "outputs": []
    },
    {
      "cell_type": "code",
      "source": [
        "from sklearn.ensemble import RandomForestClassifier\n",
        "\n",
        "text_classifier = RandomForestClassifier(n_estimators=200, random_state=0)\n",
        "text_classifier.fit(X_train, y_train)\n"
      ],
      "metadata": {
        "id": "cxrTcZ1M1LYC",
        "colab": {
          "base_uri": "https://localhost:8080/"
        },
        "outputId": "422825a3-39c2-4b4d-a588-aa8d27b9eece"
      },
      "execution_count": 49,
      "outputs": [
        {
          "output_type": "execute_result",
          "data": {
            "text/plain": [
              "RandomForestClassifier(n_estimators=200, random_state=0)"
            ]
          },
          "metadata": {},
          "execution_count": 49
        }
      ]
    },
    {
      "cell_type": "code",
      "source": [
        "predictions = text_classifier.predict(X_test)"
      ],
      "metadata": {
        "id": "5UmzQOpirNQS"
      },
      "execution_count": 50,
      "outputs": []
    },
    {
      "cell_type": "code",
      "source": [
        "from sklearn.metrics import classification_report, confusion_matrix, accuracy_score\n",
        "\n",
        "print(confusion_matrix(y_test,predictions))\n",
        "print(classification_report(y_test,predictions))\n",
        "print(accuracy_score(y_test, predictions))"
      ],
      "metadata": {
        "colab": {
          "base_uri": "https://localhost:8080/"
        },
        "id": "om8JAUHmrM5Q",
        "outputId": "d32059fc-8052-4f38-9f5d-42b940db03f9"
      },
      "execution_count": 51,
      "outputs": [
        {
          "output_type": "stream",
          "name": "stdout",
          "text": [
            "[[233  18   9  59]\n",
            " [  1 374  12   2]\n",
            " [  2  36 352   4]\n",
            " [ 36  24  10 181]]\n",
            "              precision    recall  f1-score   support\n",
            "\n",
            "           0       0.86      0.73      0.79       319\n",
            "           1       0.83      0.96      0.89       389\n",
            "           2       0.92      0.89      0.91       394\n",
            "           3       0.74      0.72      0.73       251\n",
            "\n",
            "    accuracy                           0.84      1353\n",
            "   macro avg       0.83      0.83      0.83      1353\n",
            "weighted avg       0.84      0.84      0.84      1353\n",
            "\n",
            "0.8425720620842572\n"
          ]
        }
      ]
    },
    {
      "cell_type": "code",
      "source": [
        "categories = [\n",
        "    \"alt.atheism\",\n",
        "    \"comp.graphics\",\n",
        "    \"comp.sys.ibm.pc.hardware\",\n",
        "    \"comp.sys.mac.hardware\",\n",
        "    \"comp.windows.x\",\n",
        "    \"misc.forsale\",\n",
        "    \"rec.autos\",\n",
        "    \"rec.motorcycles\",\n",
        "    \"rec.sport.baseball\",\n",
        "    \"rec.sport.hockey\",\n",
        "    \"sci.crypt\",\n",
        "    \"sci.electronics\",\n",
        "    \"sci.med\",\n",
        "    \"sci.space\",\n",
        "    \"soc.religion.christian\",\n",
        "    \"talk.politics.guns\",\n",
        "    \"talk.politics.mideast\",\n",
        "    \"talk.politics.misc\",\n",
        "    \"talk.religion.misc\",\n",
        "]\n",
        "newsgroups = datasets.fetch_20newsgroups(categories=categories)\n",
        "y_true = newsgroups.target"
      ],
      "metadata": {
        "id": "kxJKit681LP1"
      },
      "execution_count": null,
      "outputs": []
    },
    {
      "cell_type": "markdown",
      "source": [
        "## Try different values for tf idf, increase number of classes\n",
        "## different classifiers\n",
        "## change the vector representations\n"
      ],
      "metadata": {
        "id": "pLnZEAq9vppZ"
      }
    },
    {
      "cell_type": "code",
      "source": [],
      "metadata": {
        "id": "rP37ZBOM1LNF",
        "colab": {
          "base_uri": "https://localhost:8080/"
        },
        "outputId": "52d8cef9-2a4f-4254-ba61-0b5e5b99fd19"
      },
      "execution_count": null,
      "outputs": [
        {
          "output_type": "stream",
          "name": "stdout",
          "text": [
            "Vectorizing...\n",
            "Coclustering...\n",
            "Done in 12.09s. V-measure: 0.4431\n",
            "MiniBatchKMeans...\n",
            "Done in 5.15s. V-measure: 0.3177\n",
            "\n",
            "Best biclusters:\n",
            "----------------\n",
            "bicluster 0 : 1961 documents, 4388 words\n",
            "categories   : 23% talk.politics.guns, 18% talk.politics.misc, 17% sci.med\n",
            "words        : gun, geb, guns, banks, gordon, clinton, pitt, cdt, surrender, veal\n",
            "\n",
            "bicluster 1 : 1269 documents, 3558 words\n",
            "categories   : 27% soc.religion.christian, 25% talk.politics.mideast, 24% alt.atheism\n",
            "words        : god, jesus, christians, sin, objective, kent, belief, christ, faith, moral\n",
            "\n",
            "bicluster 2 : 2201 documents, 2747 words\n",
            "categories   : 18% comp.sys.mac.hardware, 17% comp.sys.ibm.pc.hardware, 16% comp.graphics\n",
            "words        : voltage, board, dsp, packages, receiver, stereo, shipping, package, compression, image\n",
            "\n",
            "bicluster 3 : 1773 documents, 2620 words\n",
            "categories   : 27% rec.motorcycles, 23% rec.autos, 13% misc.forsale\n",
            "words        : bike, car, dod, engine, motorcycle, ride, honda, bikes, helmet, bmw\n",
            "\n",
            "bicluster 4 : 201 documents, 1175 words\n",
            "categories   : 81% talk.politics.mideast, 10% alt.atheism, 7% soc.religion.christian\n",
            "words        : turkish, armenia, armenian, armenians, turks, petch, sera, zuma, argic, gvg47\n",
            "\n"
          ]
        }
      ]
    },
    {
      "cell_type": "code",
      "source": [],
      "metadata": {
        "id": "IKYHUXo31LI7"
      },
      "execution_count": null,
      "outputs": []
    },
    {
      "cell_type": "code",
      "source": [],
      "metadata": {
        "id": "1XOeOmUx1LEO"
      },
      "execution_count": null,
      "outputs": []
    }
  ]
}