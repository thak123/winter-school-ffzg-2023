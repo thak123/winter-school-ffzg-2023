{
  "nbformat": 4,
  "nbformat_minor": 0,
  "metadata": {
    "colab": {
      "provenance": [],
      "authorship_tag": "ABX9TyMttxAjAp78tXKShExpIJ+m",
      "include_colab_link": true
    },
    "kernelspec": {
      "name": "python3",
      "display_name": "Python 3"
    },
    "language_info": {
      "name": "python"
    }
  },
  "cells": [
    {
      "cell_type": "markdown",
      "metadata": {
        "id": "view-in-github",
        "colab_type": "text"
      },
      "source": [
        "<a href=\"https://colab.research.google.com/github/thak123/winter-school-ffzg-2023/blob/main/0_Basics_and_Terminology.ipynb\" target=\"_parent\"><img src=\"https://colab.research.google.com/assets/colab-badge.svg\" alt=\"Open In Colab\"/></a>"
      ]
    },
    {
      "cell_type": "markdown",
      "source": [
        "### Inline execution"
      ],
      "metadata": {
        "id": "hlt-8qJ0ZdP3"
      }
    },
    {
      "cell_type": "code",
      "source": [
        "1+1"
      ],
      "metadata": {
        "id": "XkeD-9ktZIMH"
      },
      "execution_count": null,
      "outputs": []
    },
    {
      "cell_type": "markdown",
      "source": [
        "### Print"
      ],
      "metadata": {
        "id": "4R0kyZEEZghY"
      }
    },
    {
      "cell_type": "code",
      "execution_count": 1,
      "metadata": {
        "colab": {
          "base_uri": "https://localhost:8080/"
        },
        "id": "25VlMZePT_4d",
        "outputId": "f9e0624b-d109-4b41-94c1-bda6d312b6aa"
      },
      "outputs": [
        {
          "output_type": "stream",
          "name": "stdout",
          "text": [
            "hello world\n"
          ]
        }
      ],
      "source": [
        "print(\"hello world\")"
      ]
    },
    {
      "cell_type": "markdown",
      "source": [
        "### Variables"
      ],
      "metadata": {
        "id": "m0KlT0w4Zh9O"
      }
    },
    {
      "cell_type": "code",
      "source": [
        "#TODO replace \"test\" with your name\n",
        "name = \"test\""
      ],
      "metadata": {
        "id": "TpxcMBT2UdTI"
      },
      "execution_count": 3,
      "outputs": []
    },
    {
      "cell_type": "code",
      "source": [
        "print(\"my name is\",name )"
      ],
      "metadata": {
        "colab": {
          "base_uri": "https://localhost:8080/"
        },
        "id": "ziRS--WMZOT7",
        "outputId": "3cf70c44-0ad8-4d64-94ce-a33feae6060d"
      },
      "execution_count": 4,
      "outputs": [
        {
          "output_type": "stream",
          "name": "stdout",
          "text": [
            "my name is test\n"
          ]
        }
      ]
    },
    {
      "cell_type": "code",
      "source": [
        "def add(x,y):\n",
        "    return x+y"
      ],
      "metadata": {
        "id": "GW8t7HOyZS3J"
      },
      "execution_count": 5,
      "outputs": []
    },
    {
      "cell_type": "code",
      "source": [
        "add(2,3)"
      ],
      "metadata": {
        "colab": {
          "base_uri": "https://localhost:8080/"
        },
        "id": "RBBpfQqnZXe6",
        "outputId": "b7d155ff-5c84-4bb0-e71b-0ce1c43f0c35"
      },
      "execution_count": 6,
      "outputs": [
        {
          "output_type": "execute_result",
          "data": {
            "text/plain": [
              "5"
            ]
          },
          "metadata": {},
          "execution_count": 6
        }
      ]
    },
    {
      "cell_type": "code",
      "source": [
        "#TODO write function for subtraction\n",
        "def sub(x,y):\n",
        "    return #this is a comment"
      ],
      "metadata": {
        "id": "7uU_hzGDZYrl"
      },
      "execution_count": 7,
      "outputs": []
    },
    {
      "cell_type": "code",
      "source": [
        "a = \n",
        "b = \n",
        "sub(a,b)"
      ],
      "metadata": {
        "id": "N0OmlwBJZxAa"
      },
      "execution_count": null,
      "outputs": []
    },
    {
      "cell_type": "code",
      "source": [],
      "metadata": {
        "id": "TKVkl_cuaRNQ"
      },
      "execution_count": null,
      "outputs": []
    },
    {
      "cell_type": "code",
      "source": [],
      "metadata": {
        "id": "9Om01oNaaRA-"
      },
      "execution_count": null,
      "outputs": []
    },
    {
      "cell_type": "code",
      "source": [],
      "metadata": {
        "id": "BSUelhGUaQ1S"
      },
      "execution_count": null,
      "outputs": []
    },
    {
      "cell_type": "markdown",
      "source": [
        "### iterators"
      ],
      "metadata": {
        "id": "b5Rb7um4aRoR"
      }
    },
    {
      "cell_type": "code",
      "source": [
        "our_list = ['Lily', 'Brad', 'Fatima', 'Zining']\n",
        "\n",
        "for name in our_list:\n",
        "    print(name)                                                                                                                                                                                                                 "
      ],
      "metadata": {
        "id": "5hYy46cyaUUc"
      },
      "execution_count": null,
      "outputs": []
    },
    {
      "cell_type": "markdown",
      "source": [
        "### TODO Modify list with names of the fruits and print"
      ],
      "metadata": {
        "id": "a8Ba1E2HdUw-"
      }
    },
    {
      "cell_type": "code",
      "source": [
        "our_list = ['', '', '', '']\n",
        "\n",
        "for name in our_list:\n",
        "    print(name)   "
      ],
      "metadata": {
        "id": "qB-S7oBkddj5"
      },
      "execution_count": null,
      "outputs": []
    }
  ]
}